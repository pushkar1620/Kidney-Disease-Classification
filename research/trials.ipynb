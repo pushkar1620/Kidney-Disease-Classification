{
 "cells": [
  {
   "cell_type": "code",
   "execution_count": 1,
   "id": "bb5a1312",
   "metadata": {},
   "outputs": [],
   "source": [
    "\n",
    "# config box\n",
    "d = {\"key\":\"val\", \"key1\":\"val1\"}"
   ]
  },
  {
   "cell_type": "code",
   "execution_count": null,
   "id": "fb7b26c4",
   "metadata": {},
   "outputs": [],
   "source": [
    "\n",
    "d['key1']"
   ]
  },
  {
   "cell_type": "code",
   "execution_count": null,
   "id": "cc6e9b75",
   "metadata": {},
   "outputs": [],
   "source": [
    "\n",
    "d.key1"
   ]
  },
  {
   "cell_type": "code",
   "execution_count": null,
   "id": "c1b31b7e",
   "metadata": {},
   "outputs": [],
   "source": [
    "\n",
    "from box import ConfigBox"
   ]
  },
  {
   "cell_type": "code",
   "execution_count": null,
   "id": "8c26f6d0",
   "metadata": {},
   "outputs": [],
   "source": [
    "\n",
    "d2 = ConfigBox({\"key\":\"val\", \"key1\":\"val1\"})"
   ]
  },
  {
   "cell_type": "code",
   "execution_count": null,
   "id": "44821f42",
   "metadata": {},
   "outputs": [],
   "source": [
    "d2.key1"
   ]
  },
  {
   "cell_type": "code",
   "execution_count": null,
   "id": "f13dc23c",
   "metadata": {},
   "outputs": [],
   "source": [
    "\n",
    "type(d2)"
   ]
  },
  {
   "cell_type": "code",
   "execution_count": null,
   "id": "c12abc10",
   "metadata": {},
   "outputs": [],
   "source": [
    "\n",
    "type(d)"
   ]
  },
  {
   "cell_type": "code",
   "execution_count": null,
   "id": "dba7745e",
   "metadata": {},
   "outputs": [],
   "source": [
    "# ensure annotations \n",
    "\n",
    "def get_prodict(x:int, y:int) -> int:\n",
    "    return x*y"
   ]
  },
  {
   "cell_type": "code",
   "execution_count": null,
   "id": "c5929ba7",
   "metadata": {},
   "outputs": [],
   "source": []
  }
 ],
 "metadata": {
  "kernelspec": {
   "display_name": "base",
   "language": "python",
   "name": "python3"
  },
  "language_info": {
   "codemirror_mode": {
    "name": "ipython",
    "version": 3
   },
   "file_extension": ".py",
   "mimetype": "text/x-python",
   "name": "python",
   "nbconvert_exporter": "python",
   "pygments_lexer": "ipython3",
   "version": "3.12.3"
  }
 },
 "nbformat": 4,
 "nbformat_minor": 5
}
